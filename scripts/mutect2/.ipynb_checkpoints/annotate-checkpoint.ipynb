{
 "cells": [
  {
   "cell_type": "code",
   "execution_count": null,
   "metadata": {},
   "outputs": [],
   "source": [
    "def db():\n",
    "    result = subprocess.run(\"DIR_OUT=/media/emir/Storage/Cancer/mutect; \\\n",
    "                            SNPEFF=$DIR_OUT/annotation/snpEff/snpEff.jar; \\\n",
    "                            CONFIG=$DIR_OUT/annotation/snpEff/snpEff.config; \\\n",
    "                            java -jar $SNPEFF download \\\n",
    "                            -c $CONFIG GRCh37.75\",\n",
    "                            shell=True, stderr=subprocess.PIPE)\n",
    "    return print(result.stderr.decode(\"utf-8\"))"
   ]
  },
  {
   "cell_type": "code",
   "execution_count": null,
   "metadata": {},
   "outputs": [],
   "source": [
    "def annotate_variants(patient, sample):\n",
    "     \n",
    "    result = subprocess.run(\"DIR_OUT=/media/emir/Storage/Cancer/mutect; \\\n",
    "                            MAIN_FOLDER=$DIR_OUT/annotation/snpEff; \\\n",
    "                            CONFIG=$DIR_OUT/annotation/snpEff/snpEff.config; \\\n",
    "                            cd $MAIN_FOLDER; \\\n",
    "                            java -jar \\\"-Xmx4g\\\" snpEff.jar GRCh37.75 \\\n",
    "                            $DIR_OUT/output/pat{0}/s{1}/output_transcr_new_filtered.vcf > \\\n",
    "                            $DIR_OUT/output/pat{0}/s{1}/output_transcr_new_annotated.vcf\".format(patient,sample),\n",
    "                            shell=True, stderr=subprocess.PIPE)\n",
    "    output_dir=f\"/media/emir/Storage/Cancer/mutect/output/pat{patient}/s{sample}/\"\n",
    "    with open(os.path.join(output_dir,\"annotate_variants.log\"), \"w\") as s:\n",
    "        s.write(result.stderr.decode('utf-8'))"
   ]
  },
  {
   "cell_type": "code",
   "execution_count": null,
   "metadata": {},
   "outputs": [],
   "source": [
    "def func_pred(patient, sample):\n",
    "     \n",
    "    result = subprocess.run(\"DIR_OUT=/media/emir/Storage/Cancer/mutect; \\\n",
    "                            SNPSIFT=$DIR_OUT/annotation/snpEff/SnpSift.jar; \\\n",
    "                            CONFIG=$DIR_OUT/annotation/snpEff/snpEff.config; \\\n",
    "                            DB_FOLDER=`dirname $SNPSIFT`; \\\n",
    "                            java -jar $SNPSIFT dbnsfp \\\n",
    "                            -c $CONFIG -v \\\n",
    "                            -db $DB_FOLDER/dbNSFP2.9.txt.gz \\\n",
    "                            -f CADD_phred,Polyphen2_HDIV_score,Polyphen2_HDIV_pred,Polyphen2_HVAR_score,Polyphen2_HVAR_pred,SIFT_score,SIFT_pred,MutationTaster_score,MutationTaster_pred,MetaLR_score,MetaLR_pred \\\n",
    "                            $DIR_OUT/output/pat{0}/s{1}/output_transcr_new_annotated.vcf > \\\n",
    "                            $DIR_OUT/output/pat{0}/s{1}/output_transcr_new_predicted.vcf\".format(patient,sample),\n",
    "                            shell=True, stderr=subprocess.PIPE)\n",
    "    output_dir=f\"/media/emir/Storage/Cancer/mutect/output/pat{patient}/s{sample}/\"\n",
    "    with open(os.path.join(output_dir,\"functional_prediction.log\"), \"w\") as s:\n",
    "        s.write(result.stderr.decode('utf-8'))"
   ]
  },
  {
   "cell_type": "code",
   "execution_count": null,
   "metadata": {},
   "outputs": [],
   "source": []
  }
 ],
 "metadata": {
  "kernelspec": {
   "display_name": "Python 3",
   "language": "python",
   "name": "python3"
  },
  "language_info": {
   "codemirror_mode": {
    "name": "ipython",
    "version": 3
   },
   "file_extension": ".py",
   "mimetype": "text/x-python",
   "name": "python",
   "nbconvert_exporter": "python",
   "pygments_lexer": "ipython3",
   "version": "3.7.2"
  }
 },
 "nbformat": 4,
 "nbformat_minor": 2
}
