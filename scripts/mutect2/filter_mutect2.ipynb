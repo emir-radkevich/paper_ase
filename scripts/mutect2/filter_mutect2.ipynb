{
 "cells": [
  {
   "cell_type": "code",
   "execution_count": 1,
   "metadata": {},
   "outputs": [],
   "source": [
    "def filter_somatic(patient, sample):\n",
    "    \n",
    "    result=subprocess.run(\"DIR_FILES=/media/emir/Storage/LINUX/gatk; \\\n",
    "                DIR_OUT=/media/emir/Storage/Cancer/mutect; \\\n",
    "                GATK=$DIR_OUT/gatk-4.1.2.0/gatk-package-4.1.2.0-local.jar; \\\n",
    "                java -jar $GATK \\\n",
    "                FilterMutectCalls \\\n",
    "                -R $DIR_FILES/ucsc_hg19.fasta \\\n",
    "                -V $DIR_OUT/output/pat{0}/s{1}/output_transcr.vcf \\\n",
    "                -O $DIR_OUT/output/pat{0}/s{1}/output_transcr_filtered.vcf\".format(patient,sample), \n",
    "                shell = True, stderr=subprocess.PIPE)\n",
    "    \n",
    "    output_dir=f\"/media/emir/Storage/Cancer/mutect/output/pat{patient}/s{sample}/\"\n",
    "    with open(os.path.join(output_dir,\"filter_somatic.log\"), \"w\") as s:\n",
    "        s.write(result.stderr.decode('utf-8'))"
   ]
  },
  {
   "cell_type": "code",
   "execution_count": 2,
   "metadata": {},
   "outputs": [],
   "source": [
    "# for i in [4,\"T\"]:\n",
    "#     for j in [1,2]:\n",
    "#         print(i,j)\n",
    "#         filter_somatic(i,j)"
   ]
  },
  {
   "cell_type": "code",
   "execution_count": null,
   "metadata": {},
   "outputs": [],
   "source": []
  }
 ],
 "metadata": {
  "kernelspec": {
   "display_name": "Python 3",
   "language": "python",
   "name": "python3"
  },
  "language_info": {
   "codemirror_mode": {
    "name": "ipython",
    "version": 3
   },
   "file_extension": ".py",
   "mimetype": "text/x-python",
   "name": "python",
   "nbconvert_exporter": "python",
   "pygments_lexer": "ipython3",
   "version": "3.7.2"
  }
 },
 "nbformat": 4,
 "nbformat_minor": 2
}
