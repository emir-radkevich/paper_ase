{
 "cells": [
  {
   "cell_type": "code",
   "execution_count": 1,
   "metadata": {},
   "outputs": [],
   "source": [
    "import os\n",
    "import sys\n",
    "import allel\n",
    "import subprocess\n",
    "from tqdm import tqdm_notebook as tqdm\n",
    "\n",
    "sys.path.append(\"mutect2/\")\n",
    "# mutect2 -- bed,filter_mutect2, run_mutect2\n",
    "sys.path.append(\"rvb_vs_mut2/\")"
   ]
  },
  {
   "cell_type": "markdown",
   "metadata": {},
   "source": [
    "<center><h4> Делаем список генов для каждой пары опухоль-норма </h4></center>"
   ]
  },
  {
   "cell_type": "code",
   "execution_count": 3,
   "metadata": {},
   "outputs": [],
   "source": [
    "import bed"
   ]
  },
  {
   "cell_type": "code",
   "execution_count": 4,
   "metadata": {
    "scrolled": true
   },
   "outputs": [
    {
     "data": {
      "application/vnd.jupyter.widget-view+json": {
       "model_id": "86877a9175a14f86b9c92aa58e792f15",
       "version_major": 2,
       "version_minor": 0
      },
      "text/plain": [
       "HBox(children=(IntProgress(value=0, max=90379), HTML(value='')))"
      ]
     },
     "metadata": {},
     "output_type": "display_data"
    },
    {
     "name": "stdout",
     "output_type": "stream",
     "text": [
      "\n"
     ]
    }
   ],
   "source": [
    "for i in [16]:\n",
    "    for j in [1,2]:\n",
    "        bed.make_bed_file(i,j)"
   ]
  },
  {
   "cell_type": "code",
   "execution_count": 11,
   "metadata": {},
   "outputs": [],
   "source": [
    "# BAM=\"/media/emir/Seagate/data/patients\"\n",
    "# path_to_output=\"/media/emir/Storage/Cancer/mutect/output\"\n",
    "\n",
    "# for i in os.listdir(BAM):\n",
    "#     a=\"pat\"+i.split(\"_\")[1]\n",
    "#     os.mkdir(os.path.join(path_to_output, a, \"s2\"))"
   ]
  },
  {
   "cell_type": "markdown",
   "metadata": {},
   "source": [
    "<center><h4> Запускаем mutect2 и фильтруем результаты </center></h4>"
   ]
  },
  {
   "cell_type": "code",
   "execution_count": 2,
   "metadata": {},
   "outputs": [],
   "source": [
    "import run_mutect2\n",
    "import filter_mutect2"
   ]
  },
  {
   "cell_type": "code",
   "execution_count": 3,
   "metadata": {
    "scrolled": true
   },
   "outputs": [
    {
     "data": {
      "application/vnd.jupyter.widget-view+json": {
       "model_id": "431e1d6280714ea3bb4bec5eed079b37",
       "version_major": 2,
       "version_minor": 0
      },
      "text/plain": [
       "HBox(children=(IntProgress(value=0, max=2), HTML(value='')))"
      ]
     },
     "metadata": {},
     "output_type": "display_data"
    },
    {
     "name": "stdout",
     "output_type": "stream",
     "text": [
      "\n"
     ]
    }
   ],
   "source": [
    "for i in [16]:\n",
    "    for j in tqdm([1,2]):\n",
    "        run_mutect2.search_mutations(i,j,1)"
   ]
  },
  {
   "cell_type": "code",
   "execution_count": 5,
   "metadata": {},
   "outputs": [
    {
     "data": {
      "application/vnd.jupyter.widget-view+json": {
       "model_id": "179821b004a4470fab317568f4665b7d",
       "version_major": 2,
       "version_minor": 0
      },
      "text/plain": [
       "HBox(children=(IntProgress(value=0, max=2), HTML(value='')))"
      ]
     },
     "metadata": {},
     "output_type": "display_data"
    },
    {
     "name": "stdout",
     "output_type": "stream",
     "text": [
      "\n"
     ]
    }
   ],
   "source": [
    "for i in [16]:\n",
    "    for j in tqdm([1,2]):\n",
    "        filter_mutect2.filter_somatic(i,j)"
   ]
  },
  {
   "cell_type": "markdown",
   "metadata": {},
   "source": [
    "<center><h4>Аннотируем варианты с помощью snpEff</h4></center>"
   ]
  },
  {
   "cell_type": "markdown",
   "metadata": {},
   "source": [
    "While PolyPhen-2 HDIV uses alleles encoding human proteins and their closely related mammalian homologs as TN observations, PolyPhen-2 HVAR applies common human nsSNVs as TN observations. "
   ]
  },
  {
   "cell_type": "code",
   "execution_count": 2,
   "metadata": {},
   "outputs": [],
   "source": [
    "import annotate\n",
    "import comparison"
   ]
  },
  {
   "cell_type": "code",
   "execution_count": 7,
   "metadata": {},
   "outputs": [
    {
     "data": {
      "application/vnd.jupyter.widget-view+json": {
       "model_id": "eeb7b5acd7444c4ea8c2268bd9d8a40e",
       "version_major": 2,
       "version_minor": 0
      },
      "text/plain": [
       "HBox(children=(IntProgress(value=0, max=2), HTML(value='')))"
      ]
     },
     "metadata": {},
     "output_type": "display_data"
    },
    {
     "name": "stdout",
     "output_type": "stream",
     "text": [
      "\n"
     ]
    }
   ],
   "source": [
    "for i in [16]:\n",
    "    for j in tqdm([1,2]):\n",
    "        annotate.annotate_variants(i,j)"
   ]
  },
  {
   "cell_type": "code",
   "execution_count": 8,
   "metadata": {},
   "outputs": [
    {
     "data": {
      "application/vnd.jupyter.widget-view+json": {
       "model_id": "e2f06cf0cec744d49e43bf6057488942",
       "version_major": 2,
       "version_minor": 0
      },
      "text/plain": [
       "HBox(children=(IntProgress(value=0, max=2), HTML(value='')))"
      ]
     },
     "metadata": {},
     "output_type": "display_data"
    },
    {
     "name": "stdout",
     "output_type": "stream",
     "text": [
      "\n"
     ]
    }
   ],
   "source": [
    "for i in [16]:\n",
    "    for j in tqdm([1,2]):\n",
    "        annotate.func_pred(i,j)"
   ]
  },
  {
   "cell_type": "code",
   "execution_count": 16,
   "metadata": {},
   "outputs": [],
   "source": [
    "for i in [1,2,3,4,\"T\"]:\n",
    "    for j in tqdm([1,2]):\n",
    "        annotate.dbsnp_annotate(i,j)"
   ]
  },
  {
   "cell_type": "code",
   "execution_count": 31,
   "metadata": {},
   "outputs": [],
   "source": [
    "# def add_dbsnp(patient,sample):\n",
    "#     path_to_mutect2 = f\"/media/emir/Storage/Cancer/mutect/output/pat{patient}/s{sample}\"\n",
    "#     path_to_vcf = f\"/media/emir/Storage/Cancer/mutect/output/pat{patient}/s{sample}/output_transcr_new_predicted_dbsnp.vcf\"\n",
    "#     mutect2_name = \"mutect2_w_dbsnp.pkl\"\n",
    "#     df=pd.read_pickle(os.path.join(path_to_mutect2,mutect2_name))\n",
    "#     df_vcf=allel.vcf_to_dataframe(path_to_vcf,fields=\"ID\")\n",
    "#     df.insert(2,\"ID\",df_vcf)\n",
    "#     df.to_pickle(os.path.join(path_to_mutect2,\"mutect2_w_dbsnp.pkl\"))\n",
    "#     return df "
   ]
  },
  {
   "cell_type": "code",
   "execution_count": 4,
   "metadata": {
    "scrolled": false
   },
   "outputs": [
    {
     "data": {
      "application/vnd.jupyter.widget-view+json": {
       "model_id": "7dfef499329347888faba2c00049cb71",
       "version_major": 2,
       "version_minor": 0
      },
      "text/plain": [
       "HBox(children=(IntProgress(value=0, max=2), HTML(value='')))"
      ]
     },
     "metadata": {},
     "output_type": "display_data"
    },
    {
     "name": "stdout",
     "output_type": "stream",
     "text": [
      "\n"
     ]
    },
    {
     "data": {
      "text/plain": [
       "<Figure size 432x288 with 0 Axes>"
      ]
     },
     "metadata": {},
     "output_type": "display_data"
    }
   ],
   "source": [
    "for i in [16]:\n",
    "    for j in tqdm([1,2]):\n",
    "        comparison.rvboost_mutect2(i,j,1)"
   ]
  },
  {
   "cell_type": "markdown",
   "metadata": {},
   "source": [
    "<center><h4> Делаем списки всех тестируемых генов для графини (old) </center></h4>"
   ]
  },
  {
   "cell_type": "code",
   "execution_count": 11,
   "metadata": {},
   "outputs": [],
   "source": [
    "def grafinya(patient):\n",
    "    \n",
    "    output_dir=f\"/media/emir/Storage/Cancer/mutect/output/pat{patient}\"\n",
    "    file_name=f\"genes_intersect_pat{patient}\"\n",
    "    df=comparison.mutect2_s1_s2(patient)\n",
    "    gene_list=df[\"ANN_Gene_Name_x\"].unique().tolist()\n",
    "    print(len(gene_list))\n",
    "    with open(os.path.join(output_dir,file_name), \"w\") as s:\n",
    "        for i in gene_list:\n",
    "            if isinstance(i,float):\n",
    "                gene_list.remove(i)\n",
    "            else:\n",
    "                s.write(i+\"\\n\")\n",
    "                \n",
    "    print(len(gene_list))\n"
   ]
  },
  {
   "cell_type": "markdown",
   "metadata": {},
   "source": [
    "<center><h4> Предположение о поломанных bam файлах anzaika (1.1, 3.1, 38.1) </center></h4>"
   ]
  },
  {
   "cell_type": "code",
   "execution_count": 150,
   "metadata": {},
   "outputs": [],
   "source": [
    "def samtools_head(patient, sample):\n",
    "    \n",
    "    result=subprocess.run(\"BAM=/media/emir/Seagate/data/patients; \\\n",
    "                samtools view -H $BAM/Patient_{0}/Tumor_{1}/reorder.sorted.bam\".format(patient,sample), \n",
    "                shell = True, stdout=subprocess.PIPE)\n",
    "        \n",
    "    return print(result.stdout.decode('utf-8'))"
   ]
  },
  {
   "cell_type": "code",
   "execution_count": 153,
   "metadata": {},
   "outputs": [],
   "source": [
    "def samtools(patient, sample):\n",
    "\n",
    "    result=subprocess.run(\"BAM=/media/emir/Seagate/data/patients; \\\n",
    "                samtools depth -r chr1:100000-1000000 $BAM/Patient_{0}/Tumor_{1}/reorder.sorted.bam\".format(patient,sample), \n",
    "                shell = True, stdout=subprocess.PIPE)\n",
    "    l=result.stdout.decode('utf-8').split(\"\\n\")\n",
    "    c=0\n",
    "    for i in l[0:len(l)-1]:\n",
    "        dc=i.split(\"\\t\")[2]\n",
    "        c+=int(dc)\n",
    "    return c"
   ]
  },
  {
   "cell_type": "code",
   "execution_count": 155,
   "metadata": {},
   "outputs": [
    {
     "data": {
      "text/plain": [
       "1.1318716496879468"
      ]
     },
     "execution_count": 155,
     "metadata": {},
     "output_type": "execute_result"
    }
   ],
   "source": [
    "samtools(\"T\",2)/samtools(\"T\",1)"
   ]
  },
  {
   "cell_type": "code",
   "execution_count": 150,
   "metadata": {},
   "outputs": [
    {
     "data": {
      "text/plain": [
       "2.8947368421052633"
      ]
     },
     "execution_count": 150,
     "metadata": {},
     "output_type": "execute_result"
    }
   ],
   "source": [
    "5.5/1.9"
   ]
  },
  {
   "cell_type": "markdown",
   "metadata": {},
   "source": [
    "1_1, 3_1, 38_1 -- делала anzaika -- для всех них нашлось крайне мало мутаций как rvboost, так и mutect2"
   ]
  },
  {
   "cell_type": "markdown",
   "metadata": {},
   "source": [
    "<center><h4> Пересекаем результаты rvboost и mutect2 </center></h4>"
   ]
  },
  {
   "cell_type": "code",
   "execution_count": 2,
   "metadata": {},
   "outputs": [],
   "source": [
    "import comparison\n",
    "from tqdm import tqdm_notebook as tqdm"
   ]
  },
  {
   "cell_type": "code",
   "execution_count": 4,
   "metadata": {},
   "outputs": [
    {
     "data": {
      "application/vnd.jupyter.widget-view+json": {
       "model_id": "ed9d076e4793434ebf1ccf93f77844f0",
       "version_major": 2,
       "version_minor": 0
      },
      "text/plain": [
       "HBox(children=(IntProgress(value=0, max=2), HTML(value='')))"
      ]
     },
     "metadata": {},
     "output_type": "display_data"
    },
    {
     "name": "stdout",
     "output_type": "stream",
     "text": [
      "\n"
     ]
    },
    {
     "data": {
      "text/plain": [
       "<Figure size 432x288 with 0 Axes>"
      ]
     },
     "metadata": {},
     "output_type": "display_data"
    }
   ],
   "source": [
    "for i in [\"T\"]:\n",
    "    for j in tqdm([1,2]):\n",
    "        comparison.rvboost_mutect2(i,j,1)"
   ]
  },
  {
   "cell_type": "code",
   "execution_count": 3,
   "metadata": {
    "scrolled": true
   },
   "outputs": [],
   "source": [
    "# comparison.save_pics(\"T\")\n",
    "# comparison.show_pics(\"T\")"
   ]
  },
  {
   "cell_type": "markdown",
   "metadata": {},
   "source": [
    "<center><h4> Делаем excel таблицу для пациента </center></h4>"
   ]
  },
  {
   "cell_type": "markdown",
   "metadata": {},
   "source": [
    "Листы вида: <br>\n",
    "all_muts_s{sample} -- все найденные mutect2 мутации <br>\n",
    "mut2_exclusive_muts_s{sample} -- нашлись только mutect2 <br>\n",
    "commn_muts_for_rvb_mut2_s{sample} -- общие для выдачи mutect2 и rvboost"
   ]
  },
  {
   "cell_type": "markdown",
   "metadata": {},
   "source": [
    "<center><h4> Сравниваем результаты mutect2 с кодирующими космиковскими мутациями </center></h4>"
   ]
  },
  {
   "cell_type": "code",
   "execution_count": 5,
   "metadata": {
    "scrolled": false
   },
   "outputs": [],
   "source": [
    "# comparison.mutect2_s1_s2(1)"
   ]
  },
  {
   "cell_type": "markdown",
   "metadata": {},
   "source": [
    "Для 1,1: <br>\n",
    "polyphen2_hdiv + cosmic + impact -- 20 из 100<br>\n",
    "polyphen2_hvar + cosmic + impact -- 18 из 96<br>\n",
    "sift + cosmic + impact -- 27 из 150<br>\n",
    "metalr + cosmic + impact -- 11 из 58<br>\n",
    "mutationtaster_a + cosmic + impact -- 12 из 12<br>\n",
    "mutationtaster_d + cosmic + impact -- 35 из 207<br>\n",
    "\n",
    "Картина с mutationtaster_a не такая радужная у других пациентов"
   ]
  },
  {
   "cell_type": "markdown",
   "metadata": {},
   "source": [
    "<center><h4> Сколько мутаций общие для космиковских rvboost и mutect2 </center></h4>"
   ]
  },
  {
   "cell_type": "code",
   "execution_count": 18,
   "metadata": {},
   "outputs": [],
   "source": [
    "# comparison.compare_cosmic(\"T\",1)"
   ]
  },
  {
   "cell_type": "markdown",
   "metadata": {},
   "source": [
    "<center><h4>Какой процент мутаций с импактом есть в космике</center></h4>"
   ]
  },
  {
   "cell_type": "code",
   "execution_count": 32,
   "metadata": {},
   "outputs": [
    {
     "name": "stdout",
     "output_type": "stream",
     "text": [
      "[0.39622641509433965, 0.36542443064182195, 0.5778210116731517, 0.6416739319965127, 0.42783505154639173, 0.29615861214374223, 0.5297805642633229, 0.37514654161781946, 0.6750418760469011, 0.5826271186440678]\n"
     ]
    }
   ],
   "source": [
    "l=[]\n",
    "for i in [1,2,3,4,\"T\"]:\n",
    "    for j in [1,2]:\n",
    "        a=comparison.compare_to_cosmic(i,j)\n",
    "        l.append(a[1]/a[0])\n",
    "print (l)"
   ]
  },
  {
   "cell_type": "markdown",
   "metadata": {},
   "source": [
    "<center><h4>Какой процент мутаций с импактом и filter pass есть в космике</center></h4>"
   ]
  },
  {
   "cell_type": "code",
   "execution_count": 34,
   "metadata": {},
   "outputs": [
    {
     "name": "stdout",
     "output_type": "stream",
     "text": [
      "[0.25146198830409355, 0.22285714285714286, 0.3695652173913043, 0.5487465181058496, 0.18181818181818182, 0.2049586776859504, 0.3689727463312369, 0.24285714285714285, 0.43478260869565216, 0.33884297520661155]\n"
     ]
    }
   ],
   "source": [
    "l=[]\n",
    "for i in [1,2,3,4,\"T\"]:\n",
    "    for j in [1,2]:\n",
    "        a=comparison.compare_to_cosmic(i,j)\n",
    "        l.append(a[1]/a[0])\n",
    "print (l)"
   ]
  },
  {
   "cell_type": "markdown",
   "metadata": {},
   "source": [
    "Если смотрим на импакт и filter_pass -- цифры меньше. Значит много соматических космиковских мутаций не проходят по той или иной причине фильтры mutect2."
   ]
  },
  {
   "cell_type": "markdown",
   "metadata": {},
   "source": [
    "Вывод: просто смотрим на импакт и сравниваем с космиком."
   ]
  },
  {
   "cell_type": "markdown",
   "metadata": {},
   "source": [
    "<center><h4>Какой процент мутаций с импактом есть в космике (результаты rvboost)</center></h4>"
   ]
  },
  {
   "cell_type": "code",
   "execution_count": 38,
   "metadata": {},
   "outputs": [
    {
     "name": "stdout",
     "output_type": "stream",
     "text": [
      "[0.5707547169811321, 0.5794143744454303, 0.6073446327683616, 0.4196204797708557, 0.615411681914145, 0.5917094644167278, 0.42509777248767217, 0.40334638661445354, 0.6291593695271454, 0.3740443781465598]\n"
     ]
    }
   ],
   "source": [
    "l=[]\n",
    "for i in [1,2,3,4,\"T\"]:\n",
    "    for j in [1,2]:\n",
    "        a=comparison.compare_to_cosmic(i,j,1)\n",
    "        l.append(a[1]/a[0])\n",
    "print (l)"
   ]
  },
  {
   "cell_type": "markdown",
   "metadata": {},
   "source": [
    "В 7 из 10 случаев rvboost нашел больше космиковских мутаций, чем mutect2."
   ]
  },
  {
   "cell_type": "markdown",
   "metadata": {},
   "source": [
    "<center><h4> Фильтруем мутации </center></h4>"
   ]
  },
  {
   "cell_type": "code",
   "execution_count": 4,
   "metadata": {
    "scrolled": true
   },
   "outputs": [
    {
     "data": {
      "application/vnd.jupyter.widget-view+json": {
       "model_id": "dc5f8761338c43f9a4843909e7a39c6f",
       "version_major": 2,
       "version_minor": 0
      },
      "text/plain": [
       "HBox(children=(IntProgress(value=0, max=2), HTML(value='')))"
      ]
     },
     "metadata": {},
     "output_type": "display_data"
    },
    {
     "name": "stdout",
     "output_type": "stream",
     "text": [
      "\n"
     ]
    },
    {
     "data": {
      "application/vnd.jupyter.widget-view+json": {
       "model_id": "4a166c2fdc78476cb1c99e8612e9d24b",
       "version_major": 2,
       "version_minor": 0
      },
      "text/plain": [
       "HBox(children=(IntProgress(value=0, max=2), HTML(value='')))"
      ]
     },
     "metadata": {},
     "output_type": "display_data"
    },
    {
     "name": "stdout",
     "output_type": "stream",
     "text": [
      "\n"
     ]
    },
    {
     "data": {
      "application/vnd.jupyter.widget-view+json": {
       "model_id": "e7ba16028402473b9ba0b017e53b248f",
       "version_major": 2,
       "version_minor": 0
      },
      "text/plain": [
       "HBox(children=(IntProgress(value=0, max=2), HTML(value='')))"
      ]
     },
     "metadata": {},
     "output_type": "display_data"
    },
    {
     "name": "stdout",
     "output_type": "stream",
     "text": [
      "\n"
     ]
    },
    {
     "data": {
      "application/vnd.jupyter.widget-view+json": {
       "model_id": "1b8c1bd447b648689dadbf16ed81931f",
       "version_major": 2,
       "version_minor": 0
      },
      "text/plain": [
       "HBox(children=(IntProgress(value=0, max=2), HTML(value='')))"
      ]
     },
     "metadata": {},
     "output_type": "display_data"
    },
    {
     "name": "stdout",
     "output_type": "stream",
     "text": [
      "\n"
     ]
    },
    {
     "data": {
      "application/vnd.jupyter.widget-view+json": {
       "model_id": "9475bf10304d4029892d2179c8a7822b",
       "version_major": 2,
       "version_minor": 0
      },
      "text/plain": [
       "HBox(children=(IntProgress(value=0, max=2), HTML(value='')))"
      ]
     },
     "metadata": {},
     "output_type": "display_data"
    },
    {
     "name": "stdout",
     "output_type": "stream",
     "text": [
      "\n"
     ]
    },
    {
     "data": {
      "application/vnd.jupyter.widget-view+json": {
       "model_id": "1a3ab0d2d8114bbbbacf0b0a2f86d95f",
       "version_major": 2,
       "version_minor": 0
      },
      "text/plain": [
       "HBox(children=(IntProgress(value=0, max=2), HTML(value='')))"
      ]
     },
     "metadata": {},
     "output_type": "display_data"
    },
    {
     "name": "stdout",
     "output_type": "stream",
     "text": [
      "\n"
     ]
    }
   ],
   "source": [
    "for i in [1,2,3,4,16,\"T\"]:\n",
    "    for j in tqdm([1,2]):\n",
    "        comparison.filter_merged_muts(i,j)\n",
    "# comparison.filter_merged_muts(1,1)"
   ]
  },
  {
   "cell_type": "code",
   "execution_count": null,
   "metadata": {},
   "outputs": [],
   "source": []
  }
 ],
 "metadata": {
  "kernelspec": {
   "display_name": "Python 3",
   "language": "python",
   "name": "python3"
  },
  "language_info": {
   "codemirror_mode": {
    "name": "ipython",
    "version": 3
   },
   "file_extension": ".py",
   "mimetype": "text/x-python",
   "name": "python",
   "nbconvert_exporter": "python",
   "pygments_lexer": "ipython3",
   "version": "3.7.2"
  }
 },
 "nbformat": 4,
 "nbformat_minor": 2
}
