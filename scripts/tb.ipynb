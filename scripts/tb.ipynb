{
 "cells": [
  {
   "cell_type": "code",
   "execution_count": 411,
   "metadata": {},
   "outputs": [],
   "source": [
    "import allel\n",
    "from cruzdb import Genome\n",
    "import os\n",
    "from tqdm import tqdm_notebook as tqdm\n",
    "# import argparse\n",
    "# from shutil import copyfile\n",
    "import pandas as pd"
   ]
  },
  {
   "cell_type": "code",
   "execution_count": 405,
   "metadata": {
    "scrolled": true
   },
   "outputs": [],
   "source": [
    "# BAM=\"/media/emir/Seagate/data/patients\"\n",
    "# path_to_output=\"/media/emir/Storage/Cancer/mutect/rvboost\"\n",
    "# usb=\"/media/emir/USB/RVBoost DV primary files/\"\n",
    "\n",
    "# for i in range(1,71):\n",
    "#     try:\n",
    "#         copyfile(os.path.join(usb,\"%d.rvboost.s1s2.filtered.tsv\" % (i)), \n",
    "#                  os.path.join(path_to_output,\"%d_s1s2\" % (i),\"%d.rvboost.s1s2.filtered.tsv\" % (i)))\n",
    "#     except IOError:\n",
    "#         print \"skldf\"\n",
    "#     s=i.split(\"_\")[1]+\"_s1s2\"\n",
    "#     s2=i.split(\"_\")[1]+\"s2\"\n",
    "#     if i.split(\"_\")[1] not in [1,2,3,4,\"T\"]:\n",
    "#         os.mkdir(os.path.join(path_to_output, s))"
   ]
  },
  {
   "cell_type": "markdown",
   "metadata": {},
   "source": [
    "<center><h4> Добавляем к себе базы данных refGene и knownGene </h4></center>"
   ]
  },
  {
   "cell_type": "code",
   "execution_count": 373,
   "metadata": {
    "scrolled": true
   },
   "outputs": [],
   "source": [
    "path_to_db_sqlite = \"sqlite:////media/emir/Storage/Cancer/mutect/tb_db\" \n",
    "# g=Genome(\"hg19\").mirror([\"refGene\", \"knownGene\", \"kgXref\"],\n",
    "#                         os.path.join(path_to_db_sqlite, \"hg19.db\"))\n",
    "# g=Genome(\"hg38\").mirror([\"refGene\", \"knownGene\", \"kgXref\"],\n",
    "#                         os.path.join(path_to_db_sqlite, \"hg38.db\"))"
   ]
  },
  {
   "cell_type": "code",
   "execution_count": 265,
   "metadata": {},
   "outputs": [],
   "source": [
    "g_19=Genome(os.path.join(path_to_db_sqlite, \"hg19.db\"))\n",
    "# g_38=Genome(os.path.join(path_to_db_sqlite, \"hg38.db\"))"
   ]
  },
  {
   "cell_type": "markdown",
   "metadata": {},
   "source": [
    "<center><h4> Делаем из файла запускаемый скрипт </center></h4>"
   ]
  },
  {
   "cell_type": "code",
   "execution_count": 4,
   "metadata": {},
   "outputs": [],
   "source": [
    "# def main():\n",
    "#     parser = argparse.ArgumentParser()\n",
    "#     parser.add_argument(\"--patnum\", \"-pn\", help=\"patient number\", action=\"store\")\n",
    "#     parser.add_arguments(\"--sample\", help=\"number of sample, e.g. 1 or 2\", \n",
    "#                          action=\"store\")\n",
    "#     args = parser.parse_args()\n",
    "#     print make_gl(args.patnum, args.sample)"
   ]
  },
  {
   "cell_type": "markdown",
   "metadata": {},
   "source": [
    "<center><h4>Создаем bed-файл с уникальным списком генов для каждой пары образцов</h4></center>"
   ]
  },
  {
   "cell_type": "markdown",
   "metadata": {},
   "source": [
    "1) Вначале пробовал брать названия генов типа \"TP53\", но слишком много генов не находилось (из 8300 генов не было найдено около 1000). Решил взять идентификаторы транскриптов. Выход сильно больше (потерей около 300 транскриптов). <br>\n",
    "2) А потом понял, что можно искать вначале по идентификатору транскрипта (вроде он уникален -- но все равно проверим), а потом, если вдруг genome browser его не нашел, искать по названию гена. <br>\n",
    "3) Важно учитывать альтернативный сплайсинг -- один ген имеет несколько транскриптов. Для простоты брал самый длинный."
   ]
  },
  {
   "cell_type": "code",
   "execution_count": 466,
   "metadata": {},
   "outputs": [],
   "source": [
    "def make_gl_5pat(patient, sample):\n",
    "    \n",
    "    if isinstance(patient, str):\n",
    "        path_to_files = \"/media/emir/Storage/Cancer/mutect/rvboost/%ss%d\" % (patient, sample)\n",
    "        file_name = \"intersect.%s_s%d_0.0.vcf\" % (patient, sample)\n",
    "    else:\n",
    "        path_to_files = \"/media/emir/Storage/Cancer/mutect/rvboost/%ds%d\" % (patient, sample)\n",
    "        file_name = \"intersect.%d_s%d_0.0.vcf\" % (patient, sample)\n",
    "    callset=allel.vcf_to_dataframe(os.path.join(path_to_files, file_name),\n",
    "                                   fields=[\"SNPEFF_TRANSCRIPT_ID\",\"SNPEFF_GENE_NAME\"], alt_number=1)\n",
    "    callset.fillna(\"-\", inplace=True) \n",
    "    callset.query(\"SNPEFF_TRANSCRIPT_ID != \\\"-\\\" | SNPEFF_GENE_NAME != \\\"-\\\"\",inplace=True)\n",
    "    callset.sort_values(\"SNPEFF_GENE_NAME\", inplace=True)\n",
    "    callset.drop_duplicates(inplace=True)\n",
    "                  \n",
    "#     with open(os.path.join(path_to_files, \"genes_pat%ds%d_new.txt\" % (patient, sample)),\n",
    "#               \"w\") as genes_str:\n",
    "#         for i in tqdm(gene_list):\n",
    "#             genes_str.write(i + \"\\n\")\n",
    "\n",
    "    if isinstance(patient, str):\n",
    "        output_name=\"genes_pat%ss%d_refGene_new.bed\" % (patient, sample)\n",
    "    else:\n",
    "        output_name=\"genes_pat%ds%d_refGene_new.bed\" % (patient, sample)\n",
    "\n",
    "        \n",
    "    with open(os.path.join(path_to_files, output_name),\n",
    "              \"w\") as genes_str:\n",
    "        \"\"\"\n",
    "        Проверяем, есть ли transcript id в genome browser\n",
    "        \"\"\"\n",
    "        for i in tqdm(range(callset.shape[0])):\n",
    "            transcr=callset.iloc[i,0]\n",
    "            gene_name = g_19.refGene.filter_by(name=transcr).first()\n",
    "            if gene_name is None:\n",
    "                \"\"\"\n",
    "                Если transcript id нет, значит смотрим на gene name\n",
    "                \"\"\"\n",
    "                gene=callset.iloc[i,1]\n",
    "                \n",
    "                \"\"\"\n",
    "                Этот блок нужен для того, чтобы не искать один и тот же ген дважды\n",
    "                \"\"\"\n",
    "                \n",
    "                if (i!=0) and (callset.iloc[i-1,1]==callset.iloc[i,1]):\n",
    "                    if (callset.iloc[i-1,1]==\"-\") and (callset.iloc[i-1,1]==\"-\"):\n",
    "                        if (callset.iloc[i-1,0]==callset.iloc[i,0]):\n",
    "                            continue\n",
    "                    else:\n",
    "                        continue\n",
    "                \n",
    "                \"\"\"\n",
    "                Причем запариваемся с прочерками\n",
    "                Если встречаем две черточки подряд, то смотрим на transcript id\n",
    "                Если одинаквый, то continue, если нет, идем по циклу\n",
    "                UPD: вообще, вроде черточек в генах не видел, но блок пускай будет\n",
    "                \"\"\"\n",
    "                \n",
    "                d={}\n",
    "                gene_name = g_19.refGene.filter_by(name2=gene).all()\n",
    "                if not len(gene_name):\n",
    "                    continue\n",
    "                for i in gene_name:\n",
    "                    # Приходится так делать, потому что \n",
    "                    # не знаю как по-другому работать с refgene объектом\n",
    "                    i=str(i); i=i.split(\"\\t\")\n",
    "                    d[i[1],i[2]]=int(i[2])-int(i[1])\n",
    "                a=max(d)\n",
    "                for i,j in enumerate(gene_name):\n",
    "                    j=str(j); j=j.split(\"\\t\")\n",
    "                    if a[0] == j[1] and a[1] == j[2]:\n",
    "                        genes_str.write(gene_name[i].bed() + \"\\n\")\n",
    "                        break\n",
    "            else:\n",
    "                genes_str.write(gene_name.bed() + \"\\n\")\n",
    "            \n",
    "    return None"
   ]
  },
  {
   "cell_type": "code",
   "execution_count": 469,
   "metadata": {},
   "outputs": [],
   "source": [
    "def make(patient, sample):\n",
    "    \n",
    "    if isinstance(patient, str):\n",
    "        path_to_files = \"/media/emir/Storage/Cancer/mutect/rvboost/%ss%d\" % (patient, sample)\n",
    "        file_name = \"intersect.%s_s%d_0.0.vcf\" % (patient, sample)\n",
    "    else:\n",
    "        path_to_files = \"/media/emir/Storage/Cancer/mutect/rvboost/%ds%d\" % (patient, sample)\n",
    "        file_name = \"intersect.%d_s%d_0.0.vcf\" % (patient, sample)\n",
    "    callset=allel.vcf_to_dataframe(os.path.join(path_to_files, file_name),\n",
    "                                   fields=\"*\", alt_number=1)\n",
    "    return callset.columns"
   ]
  },
  {
   "cell_type": "code",
   "execution_count": null,
   "metadata": {},
   "outputs": [],
   "source": []
  },
  {
   "cell_type": "code",
   "execution_count": 450,
   "metadata": {},
   "outputs": [],
   "source": [
    "def make_gl_other_pats(patient):\n",
    "    \n",
    "    if isinstance(patient, str):\n",
    "        path_to_files = \"/media/emir/Storage/Cancer/mutect/rvboost/%s_s1s2\" % (patient)\n",
    "        file_name = \"%s.rvboost.s1s2.filtered.tsv\" % (patient)\n",
    "    else:\n",
    "        path_to_files = \"/media/emir/Storage/Cancer/mutect/rvboost/%d_s1s2\" % (patient)\n",
    "        file_name = \"%d.rvboost.s1s2.filtered.tsv\" % (patient)\n",
    "    callset=pd.read_csv(os.path.join(path_to_files, file_name), sep=\"\\t\", \n",
    "                       usecols=[\"GENE\",\"EFFECTS_DETAILED\"])\n",
    "    callset[\"split\"] = callset[\"EFFECTS_DETAILED\"].str.split(\"|\")\n",
    "#     callset.fillna(\"-\", inplace=True) \n",
    "#     callset.query(\"SNPEFF_TRANSCRIPT_ID != \\\"-\\\" | SNPEFF_GENE_NAME != \\\"-\\\"\",inplace=True)\n",
    "#     callset.sort_values(\"SNPEFF_GENE_NAME\", inplace=True)\n",
    "#     callset.drop_duplicates(inplace=True)\n",
    "                  \n",
    "#     with open(os.path.join(path_to_files, \"genes_pat%ds%d_new.txt\" % (patient, sample)),\n",
    "#               \"w\") as genes_str:\n",
    "#         for i in tqdm(gene_list):\n",
    "#             genes_str.write(i + \"\\n\")\n",
    "\n",
    "#     if isinstance(patient, str):\n",
    "#         output_name=\"genes_pat%ss%d_refGene_new.bed\" % (patient, sample)\n",
    "#     else:\n",
    "#         output_name=\"genes_pat%ds%d_refGene_new.bed\" % (patient, sample)\n",
    "\n",
    "        \n",
    "#     with open(os.path.join(path_to_files, output_name),\n",
    "#               \"w\") as genes_str:\n",
    "#         \"\"\"\n",
    "#         Проверяем, есть ли transcript id в genome browser\n",
    "#         \"\"\"\n",
    "#         for i in tqdm(range(callset.shape[0])):\n",
    "#             transcr=callset.iloc[i,0]\n",
    "#             gene_name = g_19.refGene.filter_by(name=transcr).first()\n",
    "#             if gene_name is None:\n",
    "#                 \"\"\"\n",
    "#                 Если transcript id нет, значит смотрим на gene name\n",
    "#                 \"\"\"\n",
    "#                 gene=callset.iloc[i,1]\n",
    "                \n",
    "#                 \"\"\"\n",
    "#                 Этот блок нужен для того, чтобы не искать один и тот же ген дважды\n",
    "#                 \"\"\"\n",
    "                \n",
    "#                 if (i!=0) and (callset.iloc[i-1,1]==callset.iloc[i,1]):\n",
    "#                     if (callset.iloc[i-1,1]==\"-\") and (callset.iloc[i-1,1]==\"-\"):\n",
    "#                         if (callset.iloc[i-1,0]==callset.iloc[i,0]):\n",
    "#                             continue\n",
    "#                     else:\n",
    "#                         continue\n",
    "                \n",
    "#                 \"\"\"\n",
    "#                 Причем запариваемся с прочерками\n",
    "#                 Если встречаем две черточки подряд, то смотрим на transcript id\n",
    "#                 Если одинаквый, то continue, если нет, идем по циклу\n",
    "#                 UPD: вообще, вроде черточек в генах не видел, но блок пускай будет\n",
    "#                 \"\"\"\n",
    "                \n",
    "#                 d={}\n",
    "#                 gene_name = g_19.refGene.filter_by(name2=gene).all()\n",
    "#                 if not len(gene_name):\n",
    "#                     continue\n",
    "#                 for i in gene_name:\n",
    "#                     # Приходится так делать, потому что \n",
    "#                     # не знаю как по-другому работать с refgene объектом\n",
    "#                     i=str(i); i=i.split(\"\\t\")\n",
    "#                     d[i[1],i[2]]=int(i[2])-int(i[1])\n",
    "#                 a=max(d)\n",
    "#                 for i,j in enumerate(gene_name):\n",
    "#                     j=str(j); j=j.split(\"\\t\")\n",
    "#                     if a[0] == j[1] and a[1] == j[2]:\n",
    "#                         genes_str.write(gene_name[i].bed() + \"\\n\")\n",
    "#                         break\n",
    "#             else:\n",
    "#                 genes_str.write(gene_name.bed() + \"\\n\")\n",
    "            \n",
    "    return callset"
   ]
  },
  {
   "cell_type": "code",
   "execution_count": 461,
   "metadata": {
    "scrolled": true
   },
   "outputs": [
    {
     "data": {
      "text/plain": [
       "''"
      ]
     },
     "execution_count": 461,
     "metadata": {},
     "output_type": "execute_result"
    }
   ],
   "source": [
    "make_gl_other_pats(5).iloc[8,2][12]"
   ]
  },
  {
   "cell_type": "code",
   "execution_count": 332,
   "metadata": {},
   "outputs": [],
   "source": [
    "def trial(patient, sample):\n",
    "    \n",
    "    if isinstance(patient, str):\n",
    "        path_to_files = \"/media/emir/Storage/Cancer/mutect/rvboost/%ss%d\" % (patient, sample)\n",
    "        file_name = \"intersect.%s_s%d_0.0.vcf\" % (patient, sample)\n",
    "    else:\n",
    "        path_to_files = \"/media/emir/Storage/Cancer/mutect/rvboost/%ds%d\" % (patient, sample)\n",
    "        file_name = \"intersect.%d_s%d_0.0.vcf\" % (patient, sample)\n",
    "    callset=allel.vcf_to_dataframe(os.path.join(path_to_files, file_name),\n",
    "                                   fields=[\"SNPEFF_TRANSCRIPT_ID\",\"SNPEFF_GENE_NAME\"], alt_number=1)\n",
    "    callset.fillna(\"-\", inplace=True) \n",
    "    callset.query(\"SNPEFF_TRANSCRIPT_ID != \\\"-\\\" | SNPEFF_GENE_NAME != \\\"-\\\"\",inplace=True)\n",
    "    callset.sort_values(\"SNPEFF_GENE_NAME\", inplace=True)\n",
    "    callset.drop_duplicates(inplace=True)\n",
    "        \n",
    "#     var=\"pat\"+str(patient)\n",
    "#     if patient==\"T\":var=[\"MAN1C1\",\"DNHD1\",\"GDPGP1\",\"METTL4\",\"TNFSF14\"]\n",
    "#     if patient==2:var=[\"AMPD2\",\"ZNF485\",\"SUFU\",\"MGA\",\"DSC3\",\"ZNF571\",\"BRD1\"]\n",
    "        \n",
    "    c1=0\n",
    "    c2=0\n",
    "    for i in tqdm(range(callset.shape[0])):\n",
    "        transcr=callset.iloc[i,0]\n",
    "        gene_name = g.refGene.filter_by(name=transcr).first()\n",
    "        if gene_name is None:\n",
    "            c1+=1\n",
    "            gene=callset.iloc[i,1]\n",
    "            gene_name = g.refGene.filter_by(name2=gene).first()\n",
    "            if gene_name is None:\n",
    "                c2+=1\n",
    "                continue\n",
    "    \n",
    "#     return callset\n",
    "    return c1,c2"
   ]
  },
  {
   "cell_type": "code",
   "execution_count": 334,
   "metadata": {},
   "outputs": [
    {
     "data": {
      "application/vnd.jupyter.widget-view+json": {
       "model_id": "4e758bc95a5e478487a584ffc2e1f3e2",
       "version_major": 2,
       "version_minor": 0
      },
      "text/plain": [
       "HBox(children=(IntProgress(value=0, max=9018), HTML(value=u'')))"
      ]
     },
     "metadata": {},
     "output_type": "display_data"
    },
    {
     "data": {
      "text/plain": [
       "(286, 84)"
      ]
     },
     "execution_count": 334,
     "metadata": {},
     "output_type": "execute_result"
    }
   ],
   "source": [
    "trial(2,1)"
   ]
  },
  {
   "cell_type": "code",
   "execution_count": null,
   "metadata": {},
   "outputs": [],
   "source": []
  },
  {
   "cell_type": "code",
   "execution_count": null,
   "metadata": {},
   "outputs": [],
   "source": []
  },
  {
   "cell_type": "code",
   "execution_count": 221,
   "metadata": {},
   "outputs": [],
   "source": [
    "def check_gl(patient, sample):\n",
    "    \n",
    "    if isinstance(patient, str):\n",
    "        path_to_files = \"/media/emir/Storage/Cancer/mutect/rvboost/%ss%d\" % (patient, sample)\n",
    "        file_name = \"intersect.%s_s%d_0.0.vcf\" % (patient, sample)\n",
    "    else:\n",
    "        path_to_files = \"/media/emir/Storage/Cancer/mutect/rvboost/%ds%d\" % (patient, sample)\n",
    "        file_name = \"intersect.%d_s%d_0.0.vcf\" % (patient, sample)\n",
    "    callset=allel.vcf_to_dataframe(os.path.join(path_to_files, file_name),\n",
    "                                   fields=[\"SNPEFF_TRANSCRIPT_ID\",\"SNPEFF_GENE_NAME\"], alt_number=1)\n",
    "#     callset=allel.vcf_to_dataframe(os.path.join(path_to_files, file_name),\n",
    "#                                    fields=\"*\", alt_number=1)\n",
    "    var=\"pat\"+str(patient)\n",
    "    if patient==\"T\":\n",
    "        var=callset.query(\"SNPEFF_GENE_NAME == \\\"MAN1C1\\\" | SNPEFF_GENE_NAME == \\\"DNHD1\\\" | SNPEFF_GENE_NAME == \\\"GDPGP1\\\" | SNPEFF_GENE_NAME == \\\"METTL4\\\" | SNPEFF_GENE_NAME == \\\"TNFSF14\\\"\")\n",
    "    if patient==2:\n",
    "        var=callset.query(\"SNPEFF_GENE_NAME == \\\"AMPD2\\\" | SNPEFF_GENE_NAME == \\\"ZNF485\\\" | SNPEFF_GENE_NAME == \\\"SUFU\\\" | SNPEFF_GENE_NAME == \\\"MGA\\\" | SNPEFF_GENE_NAME == \\\"DSC3\\\" | SNPEFF_GENE_NAME == \\\"ZNF571\\\" | SNPEFF_GENE_NAME == \\\"BRD1\\\"\")\n",
    "    var.drop_duplicates(inplace=True)\n",
    "            \n",
    "    d={}\n",
    "    for i,j in enumerate(var.iterrows()):\n",
    "        d[j[1][0],j[1][1]]=False\n",
    "        \n",
    "    c=0\n",
    "    for k,v in d.iteritems():\n",
    "        if k[0] in var[\"SNPEFF_TRANSCRIPT_ID\"].tolist():\n",
    "            c+=1\n",
    "            d[k]=True\n",
    "                \n",
    "    if c/len(d) == 1: print \"All genes\"\n",
    "\n",
    "    for k,v in tqdm(d.iteritems()):\n",
    "        gene_name = g.refGene.filter_by(name=k[0]).first()\n",
    "        if gene_name is None:\n",
    "            print k[0],k[1] \n",
    "    \n",
    "    return None"
   ]
  },
  {
   "cell_type": "code",
   "execution_count": null,
   "metadata": {},
   "outputs": [],
   "source": []
  }
 ],
 "metadata": {
  "kernelspec": {
   "display_name": "Python 3",
   "language": "python",
   "name": "python3"
  },
  "language_info": {
   "codemirror_mode": {
    "name": "ipython",
    "version": 3
   },
   "file_extension": ".py",
   "mimetype": "text/x-python",
   "name": "python",
   "nbconvert_exporter": "python",
   "pygments_lexer": "ipython3",
   "version": "3.7.2"
  }
 },
 "nbformat": 4,
 "nbformat_minor": 2
}
